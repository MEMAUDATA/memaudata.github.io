{
 "cells": [
  {
   "cell_type": "markdown",
   "metadata": {},
   "source": [
    "# NBA FEATURES SELECTION FOR INVESTMENT DECISION"
   ]
  },
  {
   "cell_type": "markdown",
   "metadata": {},
   "source": [
    "This analysis is based upon the \"nba_dataset.csv\". Link below \n",
    "\n",
    "https://github.com/MEMAUDATA/memaudata.github.io/blob/main/datasets/nba_dataset.csv\n",
    "\n",
    "Two questions here : \n",
    "1) Identify the best features for investment decision and develop a ML model\n",
    "2) Create a web app with the previous model. This app will run locally.\n",
    "\n",
    "NV, Toulouse, octobre,2024"
   ]
  },
  {
   "cell_type": "markdown",
   "metadata": {},
   "source": [
    "# Install all required librairies from requirements.txt"
   ]
  },
  {
   "cell_type": "code",
   "execution_count": null,
   "metadata": {},
   "outputs": [],
   "source": [
    "pip install -r requirements.txt # type: ignore"
   ]
  },
  {
   "cell_type": "markdown",
   "metadata": {},
   "source": [
    "# Import librairies"
   ]
  },
  {
   "cell_type": "code",
   "execution_count": 340,
   "metadata": {},
   "outputs": [],
   "source": [
    "# For preprocessing\n",
    "import numpy as np\n",
    "import pandas as pd\n",
    "import seaborn as sns\n",
    "import joblib as jb \n",
    "from matplotlib import pyplot as plt\n",
    "from scipy import stats as stats\n",
    "import warnings\n",
    "import nbconvert"
   ]
  },
  {
   "cell_type": "code",
   "execution_count": 341,
   "metadata": {},
   "outputs": [],
   "source": [
    "# For modelisation\n",
    "warnings.filterwarnings(\"ignore\") \n",
    "from sklearn.preprocessing import MinMaxScaler\n",
    "from sklearn.model_selection import KFold, RandomizedSearchCV,GridSearchCV\n",
    "from sklearn.metrics import confusion_matrix, recall_score, accuracy_score, classification_report\n",
    "from sklearn.svm import SVC, LinearSVC\n",
    "from sklearn.ensemble import RandomForestClassifier, AdaBoostClassifier\n",
    "from sklearn.model_selection import train_test_split\n",
    "from sklearn.neighbors import KNeighborsClassifier\n",
    "from sklearn.pipeline import make_pipeline\n",
    "from sklearn.naive_bayes import GaussianNB\n",
    "from sklearn.feature_selection import SelectKBest, f_classif,chi2\n"
   ]
  },
  {
   "cell_type": "markdown",
   "metadata": {},
   "source": [
    "# Warnings off"
   ]
  },
  {
   "cell_type": "code",
   "execution_count": 342,
   "metadata": {},
   "outputs": [],
   "source": [
    "pd.options.mode.chained_assignment = None"
   ]
  },
  {
   "cell_type": "markdown",
   "metadata": {},
   "source": [
    " # Load data and do a simple vizualisation step before preprocessing"
   ]
  },
  {
   "cell_type": "code",
   "execution_count": 343,
   "metadata": {},
   "outputs": [],
   "source": [
    "# Load dataset\n",
    "df1 = pd.read_csv(\"datasets/nba_dataset.csv\") # warning mac vs windows .// ou .\\\\"
   ]
  },
  {
   "cell_type": "markdown",
   "metadata": {},
   "source": [
    "Make a copy of the imported dataframe to work on it in order to avoid issues that need to be adressed by reloading the original csv file that could take a while for big csv file. "
   ]
  },
  {
   "cell_type": "code",
   "execution_count": 344,
   "metadata": {},
   "outputs": [],
   "source": [
    "# backup\n",
    "df = df1.copy()"
   ]
  },
  {
   "cell_type": "code",
   "execution_count": 345,
   "metadata": {},
   "outputs": [
    {
     "name": "stdout",
     "output_type": "stream",
     "text": [
      "<class 'pandas.core.frame.DataFrame'>\n",
      "RangeIndex: 1340 entries, 0 to 1339\n",
      "Data columns (total 21 columns):\n",
      " #   Column       Non-Null Count  Dtype  \n",
      "---  ------       --------------  -----  \n",
      " 0   Name         1340 non-null   object \n",
      " 1   GP           1340 non-null   int64  \n",
      " 2   MIN          1340 non-null   float64\n",
      " 3   PTS          1340 non-null   float64\n",
      " 4   FGM          1340 non-null   float64\n",
      " 5   FGA          1340 non-null   float64\n",
      " 6   FG%          1340 non-null   float64\n",
      " 7   3P Made      1340 non-null   float64\n",
      " 8   3PA          1340 non-null   float64\n",
      " 9   3P%          1329 non-null   float64\n",
      " 10  FTM          1340 non-null   float64\n",
      " 11  FTA          1340 non-null   float64\n",
      " 12  FT%          1340 non-null   float64\n",
      " 13  OREB         1340 non-null   float64\n",
      " 14  DREB         1340 non-null   float64\n",
      " 15  REB          1340 non-null   float64\n",
      " 16  AST          1340 non-null   float64\n",
      " 17  STL          1340 non-null   float64\n",
      " 18  BLK          1340 non-null   float64\n",
      " 19  TOV          1340 non-null   float64\n",
      " 20  TARGET_5Yrs  1340 non-null   float64\n",
      "dtypes: float64(19), int64(1), object(1)\n",
      "memory usage: 220.0+ KB\n"
     ]
    }
   ],
   "source": [
    "# Display all columns\n",
    "pd.set_option(\"display.max.columns\", None)\n",
    "\n",
    "# shape dataset\n",
    "df.shape\n",
    "df.info()\n"
   ]
  },
  {
   "cell_type": "code",
   "execution_count": 346,
   "metadata": {},
   "outputs": [
    {
     "data": {
      "text/html": [
       "<div>\n",
       "<style scoped>\n",
       "    .dataframe tbody tr th:only-of-type {\n",
       "        vertical-align: middle;\n",
       "    }\n",
       "\n",
       "    .dataframe tbody tr th {\n",
       "        vertical-align: top;\n",
       "    }\n",
       "\n",
       "    .dataframe thead th {\n",
       "        text-align: right;\n",
       "    }\n",
       "</style>\n",
       "<table border=\"1\" class=\"dataframe\">\n",
       "  <thead>\n",
       "    <tr style=\"text-align: right;\">\n",
       "      <th></th>\n",
       "      <th>Name</th>\n",
       "      <th>GP</th>\n",
       "      <th>MIN</th>\n",
       "      <th>PTS</th>\n",
       "      <th>FGM</th>\n",
       "      <th>FGA</th>\n",
       "      <th>FG%</th>\n",
       "      <th>3P Made</th>\n",
       "      <th>3PA</th>\n",
       "      <th>3P%</th>\n",
       "      <th>FTM</th>\n",
       "      <th>FTA</th>\n",
       "      <th>FT%</th>\n",
       "      <th>OREB</th>\n",
       "      <th>DREB</th>\n",
       "      <th>REB</th>\n",
       "      <th>AST</th>\n",
       "      <th>STL</th>\n",
       "      <th>BLK</th>\n",
       "      <th>TOV</th>\n",
       "      <th>TARGET_5Yrs</th>\n",
       "    </tr>\n",
       "  </thead>\n",
       "  <tbody>\n",
       "    <tr>\n",
       "      <th>0</th>\n",
       "      <td>Brandon Ingram</td>\n",
       "      <td>36</td>\n",
       "      <td>27.4</td>\n",
       "      <td>7.4</td>\n",
       "      <td>2.6</td>\n",
       "      <td>7.6</td>\n",
       "      <td>34.7</td>\n",
       "      <td>0.5</td>\n",
       "      <td>2.1</td>\n",
       "      <td>25.0</td>\n",
       "      <td>1.6</td>\n",
       "      <td>2.3</td>\n",
       "      <td>69.9</td>\n",
       "      <td>0.7</td>\n",
       "      <td>3.4</td>\n",
       "      <td>4.1</td>\n",
       "      <td>1.9</td>\n",
       "      <td>0.4</td>\n",
       "      <td>0.4</td>\n",
       "      <td>1.3</td>\n",
       "      <td>0.0</td>\n",
       "    </tr>\n",
       "    <tr>\n",
       "      <th>1</th>\n",
       "      <td>Andrew Harrison</td>\n",
       "      <td>35</td>\n",
       "      <td>26.9</td>\n",
       "      <td>7.2</td>\n",
       "      <td>2.0</td>\n",
       "      <td>6.7</td>\n",
       "      <td>29.6</td>\n",
       "      <td>0.7</td>\n",
       "      <td>2.8</td>\n",
       "      <td>23.5</td>\n",
       "      <td>2.6</td>\n",
       "      <td>3.4</td>\n",
       "      <td>76.5</td>\n",
       "      <td>0.5</td>\n",
       "      <td>2.0</td>\n",
       "      <td>2.4</td>\n",
       "      <td>3.7</td>\n",
       "      <td>1.1</td>\n",
       "      <td>0.5</td>\n",
       "      <td>1.6</td>\n",
       "      <td>0.0</td>\n",
       "    </tr>\n",
       "    <tr>\n",
       "      <th>2</th>\n",
       "      <td>JaKarr Sampson</td>\n",
       "      <td>74</td>\n",
       "      <td>15.3</td>\n",
       "      <td>5.2</td>\n",
       "      <td>2.0</td>\n",
       "      <td>4.7</td>\n",
       "      <td>42.2</td>\n",
       "      <td>0.4</td>\n",
       "      <td>1.7</td>\n",
       "      <td>24.4</td>\n",
       "      <td>0.9</td>\n",
       "      <td>1.3</td>\n",
       "      <td>67.0</td>\n",
       "      <td>0.5</td>\n",
       "      <td>1.7</td>\n",
       "      <td>2.2</td>\n",
       "      <td>1.0</td>\n",
       "      <td>0.5</td>\n",
       "      <td>0.3</td>\n",
       "      <td>1.0</td>\n",
       "      <td>0.0</td>\n",
       "    </tr>\n",
       "  </tbody>\n",
       "</table>\n",
       "</div>"
      ],
      "text/plain": [
       "              Name  GP   MIN  PTS  FGM  FGA   FG%  3P Made  3PA   3P%  FTM  \\\n",
       "0   Brandon Ingram  36  27.4  7.4  2.6  7.6  34.7      0.5  2.1  25.0  1.6   \n",
       "1  Andrew Harrison  35  26.9  7.2  2.0  6.7  29.6      0.7  2.8  23.5  2.6   \n",
       "2   JaKarr Sampson  74  15.3  5.2  2.0  4.7  42.2      0.4  1.7  24.4  0.9   \n",
       "\n",
       "   FTA   FT%  OREB  DREB  REB  AST  STL  BLK  TOV  TARGET_5Yrs  \n",
       "0  2.3  69.9   0.7   3.4  4.1  1.9  0.4  0.4  1.3          0.0  \n",
       "1  3.4  76.5   0.5   2.0  2.4  3.7  1.1  0.5  1.6          0.0  \n",
       "2  1.3  67.0   0.5   1.7  2.2  1.0  0.5  0.3  1.0          0.0  "
      ]
     },
     "execution_count": 346,
     "metadata": {},
     "output_type": "execute_result"
    }
   ],
   "source": [
    "df.head(3)"
   ]
  },
  {
   "cell_type": "markdown",
   "metadata": {},
   "source": [
    "# Define independant and dependants variables"
   ]
  },
  {
   "cell_type": "markdown",
   "metadata": {},
   "source": [
    "This dataset contains 21 columns. The question on investment decision is based upon the column \"Target_5YRS\" which is, here, our dependant variable (supervided ML).\n",
    "\n",
    "The remaining columns should be carrefully analyzed for potential data reduction and model optimisation.\n",
    "\n",
    "Target_5YRS = 0 => No investment\n",
    "Target_5YRS = 1 => investment\n"
   ]
  },
  {
   "cell_type": "markdown",
   "metadata": {},
   "source": [
    "# Start data preprocessing"
   ]
  },
  {
   "cell_type": "markdown",
   "metadata": {},
   "source": [
    "Duplicates / outliers / Nan values"
   ]
  },
  {
   "cell_type": "code",
   "execution_count": 347,
   "metadata": {},
   "outputs": [
    {
     "data": {
      "text/plain": [
       "(1294, 21)"
      ]
     },
     "execution_count": 347,
     "metadata": {},
     "output_type": "execute_result"
    }
   ],
   "source": [
    "# Remove duplicates : Keep first player if multiple players\n",
    "df = df.drop_duplicates(subset='Name', keep=\"first\", inplace=False)\n",
    "df.shape\n",
    "# reset index\n",
    "df = df.reset_index(drop=True)\n",
    "df.shape"
   ]
  },
  {
   "cell_type": "markdown",
   "metadata": {},
   "source": [
    "1339 - 1294 => 45 duplicates !"
   ]
  },
  {
   "cell_type": "markdown",
   "metadata": {},
   "source": [
    "Find Nan values or empty values using heatmap"
   ]
  },
  {
   "cell_type": "code",
   "execution_count": 348,
   "metadata": {},
   "outputs": [
    {
     "data": {
      "image/png": "[encoded data removed]",
      "text/plain": [
       "<Figure size 1000x1000 with 2 Axes>"
      ]
     },
     "metadata": {},
     "output_type": "display_data"
    }
   ],
   "source": [
    "# Plot the entire data with heatmap from seaborn to try to look at valuable column\n",
    "plt.figure(figsize=(10,10))\n",
    "sns.heatmap(df.isna()) # 1 = empty\n",
    "plt.show()"
   ]
  },
  {
   "cell_type": "markdown",
   "metadata": {},
   "source": [
    "3P% seems to have empty values"
   ]
  },
  {
   "cell_type": "markdown",
   "metadata": {},
   "source": [
    "Use fillna for empty values"
   ]
  },
  {
   "cell_type": "code",
   "execution_count": 349,
   "metadata": {},
   "outputs": [],
   "source": [
    "df[[\"3P%\"]] = df[[\"3P%\"]].fillna(np.nan)"
   ]
  },
  {
   "cell_type": "markdown",
   "metadata": {},
   "source": [
    "Plot data before outliers removal"
   ]
  },
  {
   "cell_type": "code",
   "execution_count": 350,
   "metadata": {},
   "outputs": [
    {
     "data": {
      "text/plain": [
       "<Figure size 640x480 with 0 Axes>"
      ]
     },
     "metadata": {},
     "output_type": "display_data"
    },
    {
     "data": {
      "image/png": "[encoded data removed]",
      "text/plain": [
       "<Figure size 1000x1000 with 1 Axes>"
      ]
     },
     "metadata": {},
     "output_type": "display_data"
    }
   ],
   "source": [
    "# Group visualization\n",
    "plt.figure()\n",
    "sns.catplot(data=df, kind=\"box\",height = 10)\n",
    "plt.show()"
   ]
  },
  {
   "cell_type": "markdown",
   "metadata": {},
   "source": [
    "Remove outliers"
   ]
  },
  {
   "cell_type": "code",
   "execution_count": 351,
   "metadata": {},
   "outputs": [],
   "source": [
    "def remove_outliers_iqr(df, columns, threshold=1.5):\n",
    "    \"\"\" IQR computation to remove outliers \"\"\"\n",
    "    df_without_outliers = df.copy()\n",
    "\n",
    "    for col in columns:\n",
    "        Q1 = df[col].quantile(0.25)\n",
    "        Q3 = df[col].quantile(0.75)\n",
    "        IQR = Q3 - Q1\n",
    "\n",
    "        lower_bound = Q1 - (threshold * IQR)\n",
    "        upper_bound = Q3 + (threshold * IQR)\n",
    "\n",
    "        df_without_outliers = df_without_outliers[(df_without_outliers[col] >= lower_bound) & (df_without_outliers[col] <= upper_bound)]\n",
    "\n",
    "    return df_without_outliers\n",
    "\n",
    "\n"
   ]
  },
  {
   "cell_type": "code",
   "execution_count": 352,
   "metadata": {},
   "outputs": [
    {
     "name": "stdout",
     "output_type": "stream",
     "text": [
      "(948, 20)\n"
     ]
    }
   ],
   "source": [
    "# Remove target and names before outliers processing\n",
    "labels  = df.drop(['Name'],axis=1).columns.values\n",
    "df      = df.drop(['Name'],axis=1)\n",
    "df      = pd.DataFrame(df)\n",
    "\n",
    "df_without_outliers = remove_outliers_iqr(df,labels,1.5)\n",
    "df_without_outliers.reset_index()\n",
    "print(df_without_outliers.shape)"
   ]
  },
  {
   "cell_type": "markdown",
   "metadata": {},
   "source": [
    "Plot data after outliers removal"
   ]
  },
  {
   "cell_type": "code",
   "execution_count": 353,
   "metadata": {},
   "outputs": [
    {
     "data": {
      "text/plain": [
       "<function matplotlib.pyplot.show(close=None, block=None)>"
      ]
     },
     "execution_count": 353,
     "metadata": {},
     "output_type": "execute_result"
    },
    {
     "data": {
      "text/plain": [
       "<Figure size 640x480 with 0 Axes>"
      ]
     },
     "metadata": {},
     "output_type": "display_data"
    },
    {
     "data": {
      "image/png": "[encoded data removed]",
      "text/plain": [
       "<Figure size 1000x1000 with 1 Axes>"
      ]
     },
     "metadata": {},
     "output_type": "display_data"
    }
   ],
   "source": [
    "plt.figure()\n",
    "sns.catplot(data=df_without_outliers, kind=\"box\",height = 10)\n",
    "plt.show"
   ]
  },
  {
   "cell_type": "markdown",
   "metadata": {},
   "source": [
    "Save the df_without_outliers dataframe for further preprocessing steps\n",
    "\n",
    "df_without_outliers will be saved as clean_dataset\n",
    "\n",
    "Warning : here without outliers means with less outliers !"
   ]
  },
  {
   "cell_type": "code",
   "execution_count": 354,
   "metadata": {},
   "outputs": [
    {
     "data": {
      "text/plain": [
       "['clean_dataset.sav']"
      ]
     },
     "execution_count": 354,
     "metadata": {},
     "output_type": "execute_result"
    }
   ],
   "source": [
    "# final clean dataset\n",
    "clean_dataset = df_without_outliers \n",
    "\n",
    "# save data set with joblib\n",
    "jb.dump(clean_dataset, \"clean_dataset.sav\") \n"
   ]
  },
  {
   "cell_type": "markdown",
   "metadata": {},
   "source": [
    "# MODEL PREDICTION"
   ]
  },
  {
   "cell_type": "markdown",
   "metadata": {},
   "source": [
    "Split train and test set using the clean dataset loaded from folder"
   ]
  },
  {
   "cell_type": "code",
   "execution_count": 355,
   "metadata": {},
   "outputs": [],
   "source": [
    "# load cleanset to have a nice clean start\n",
    "loaded_df    = jb.load('clean_dataset.sav')"
   ]
  },
  {
   "cell_type": "code",
   "execution_count": 356,
   "metadata": {},
   "outputs": [
    {
     "name": "stdout",
     "output_type": "stream",
     "text": [
      "      GP   MIN  PTS  FGM  FGA   FG%  3P Made  3PA   3P%  FTM  FTA   FT%  OREB  \\\n",
      "0     36  27.4  7.4  2.6  7.6  34.7      0.5  2.1  25.0  1.6  2.3  69.9   0.7   \n",
      "1     35  26.9  7.2  2.0  6.7  29.6      0.7  2.8  23.5  2.6  3.4  76.5   0.5   \n",
      "2     74  15.3  5.2  2.0  4.7  42.2      0.4  1.7  24.4  0.9  1.3  67.0   0.5   \n",
      "3     58  11.6  5.7  2.3  5.5  42.6      0.1  0.5  22.6  0.9  1.3  68.9   1.0   \n",
      "4     48  11.5  4.5  1.6  3.0  52.4      0.0  0.1   0.0  1.3  1.9  67.4   1.0   \n",
      "...   ..   ...  ...  ...  ...   ...      ...  ...   ...  ...  ...   ...   ...   \n",
      "1289  80  15.8  4.3  1.6  3.6  43.3      0.0  0.2  14.3  1.2  1.5  79.2   0.4   \n",
      "1290  68  12.6  3.9  1.5  4.1  35.8      0.1  0.7  16.7  0.8  1.0  79.4   0.4   \n",
      "1291  43  12.1  5.4  2.2  3.9  55.0      0.0  0.0   0.0  1.0  1.6  64.3   1.5   \n",
      "1292  52  12.0  4.5  1.7  3.8  43.9      0.0  0.2  10.0  1.2  1.8  62.5   0.2   \n",
      "1293  47  11.7  4.4  1.6  4.4  36.9      0.4  1.3  33.3  0.7  1.0  67.3   0.2   \n",
      "\n",
      "      DREB  REB  AST  STL  BLK  TOV  TARGET_5Yrs  \n",
      "0      3.4  4.1  1.9  0.4  0.4  1.3          0.0  \n",
      "1      2.0  2.4  3.7  1.1  0.5  1.6          0.0  \n",
      "2      1.7  2.2  1.0  0.5  0.3  1.0          0.0  \n",
      "3      0.9  1.9  0.8  0.6  0.1  1.0          1.0  \n",
      "4      1.5  2.5  0.3  0.3  0.4  0.8          1.0  \n",
      "...    ...  ...  ...  ...  ...  ...          ...  \n",
      "1289   0.8  1.2  2.5  0.6  0.2  0.8          0.0  \n",
      "1290   1.1  1.5  2.3  0.8  0.0  1.3          1.0  \n",
      "1291   2.3  3.8  0.3  0.3  0.4  0.9          0.0  \n",
      "1292   0.4  0.7  2.2  0.4  0.1  0.8          1.0  \n",
      "1293   0.7  0.9  1.4  0.7  0.1  0.9          1.0  \n",
      "\n",
      "[948 rows x 20 columns]\n"
     ]
    }
   ],
   "source": [
    "df = loaded_df.copy()\n",
    "print(df)"
   ]
  },
  {
   "cell_type": "code",
   "execution_count": 357,
   "metadata": {},
   "outputs": [],
   "source": [
    "def prepare_data_for_modelisation(df):\n",
    "\n",
    "    target  = df['TARGET_5Yrs'].to_numpy()\n",
    "    labels  = df.drop(['TARGET_5Yrs'],axis=1).columns.values\n",
    "    df      = df.drop(['TARGET_5Yrs'],axis=1)\n",
    "    data    = df.to_numpy()\n",
    "\n",
    "    return  data,target"
   ]
  },
  {
   "cell_type": "code",
   "execution_count": 358,
   "metadata": {},
   "outputs": [],
   "source": [
    "# For score_classifier function\n",
    "data, target  = prepare_data_for_modelisation(df)"
   ]
  },
  {
   "cell_type": "markdown",
   "metadata": {},
   "source": [
    "# MODEL PREDICTION \n",
    "## Aim : find the best recall score "
   ]
  },
  {
   "cell_type": "markdown",
   "metadata": {},
   "source": [
    "Recall scare => lowest False negative  (on a confusion matrix) "
   ]
  },
  {
   "cell_type": "markdown",
   "metadata": {},
   "source": [
    "Define classifiers"
   ]
  },
  {
   "cell_type": "code",
   "execution_count": 359,
   "metadata": {},
   "outputs": [],
   "source": [
    "SVM             = make_pipeline(MinMaxScaler(),SVC(random_state=0))\n",
    "KNN             = make_pipeline(MinMaxScaler(),KNeighborsClassifier(5))\n",
    "Randomforest    = make_pipeline(RandomForestClassifier(random_state=0)) # Normalization not necessarily need it for trees\n",
    "Adaboost        = make_pipeline(AdaBoostClassifier(algorithm=\"SAMME\",random_state=0))# avoid warning\n",
    "GNB             = make_pipeline(MinMaxScaler(),GaussianNB())\n",
    "\n",
    "\n",
    "dict_of_models  = {\"SVM\" : SVM,\n",
    "                  \"KNN\" : KNN,\n",
    "                  \"Randomforest\" : Randomforest,\n",
    "                  \"Adaboost\" : Adaboost,\n",
    "                  'GNB':GNB}\n"
   ]
  },
  {
   "cell_type": "markdown",
   "metadata": {},
   "source": [
    "Test score_classifier on the entire clean_dataset"
   ]
  },
  {
   "cell_type": "code",
   "execution_count": 360,
   "metadata": {},
   "outputs": [],
   "source": [
    "def score_classifier(dataset,classifier,labels):\n",
    "\n",
    "    kf = KFold(n_splits=3,random_state=50,shuffle=True) # bootstraping\n",
    "    confusion_mat = np.zeros((2,2))\n",
    "    recall = 0\n",
    "    for training_ids,test_ids in kf.split(dataset):\n",
    "        training_set = dataset[training_ids]\n",
    "        training_labels = labels[training_ids]\n",
    "        test_set = dataset[test_ids]\n",
    "        test_labels = labels[test_ids]\n",
    "        classifier.fit(training_set,training_labels)\n",
    "        predicted_labels = classifier.predict(test_set)\n",
    "        confusion_mat+=confusion_matrix(test_labels,predicted_labels)\n",
    "        recall += recall_score(test_labels, predicted_labels)\n",
    "    recall/=3\n",
    "    print('mean recall out of 3 Kflod splits : ' , recall)\n",
    "\n",
    "   "
   ]
  },
  {
   "cell_type": "code",
   "execution_count": 361,
   "metadata": {},
   "outputs": [
    {
     "name": "stdout",
     "output_type": "stream",
     "text": [
      "----- SVM -----\n",
      "mean recall out of 3 Kflod splits :  0.7137111648962137\n",
      "----- KNN -----\n",
      "mean recall out of 3 Kflod splits :  0.7018960685932528\n",
      "----- Randomforest -----\n",
      "mean recall out of 3 Kflod splits :  0.6802907820989509\n",
      "----- Adaboost -----\n",
      "mean recall out of 3 Kflod splits :  0.6692963557558764\n",
      "----- GNB -----\n",
      "mean recall out of 3 Kflod splits :  0.5353882779776354\n"
     ]
    }
   ],
   "source": [
    "# Loop over score_classifier\n",
    "for clf_name, clf in dict_of_models.items():\n",
    "   \n",
    "    print('-----' , clf_name ,'-----')\n",
    "    score_classifier(data, clf, target)"
   ]
  },
  {
   "cell_type": "markdown",
   "metadata": {},
   "source": [
    "Based on score_classifier function => choose best algorithm that maximizes recall score"
   ]
  },
  {
   "cell_type": "markdown",
   "metadata": {},
   "source": [
    "Split data"
   ]
  },
  {
   "cell_type": "code",
   "execution_count": 362,
   "metadata": {},
   "outputs": [],
   "source": [
    "trainset, testset = train_test_split(df, test_size=0.2, random_state=42)"
   ]
  },
  {
   "cell_type": "markdown",
   "metadata": {},
   "source": [
    "Prepare for future modelisation"
   ]
  },
  {
   "cell_type": "code",
   "execution_count": 363,
   "metadata": {},
   "outputs": [
    {
     "name": "stdout",
     "output_type": "stream",
     "text": [
      "(758, 19)\n",
      "(190, 19)\n"
     ]
    }
   ],
   "source": [
    "X_train, Y_train    = prepare_data_for_modelisation(trainset)\n",
    "X_test, Y_test      = prepare_data_for_modelisation(testset)\n",
    "print(X_train.shape)\n",
    "print(X_test.shape)"
   ]
  },
  {
   "cell_type": "markdown",
   "metadata": {},
   "source": [
    "Normalize X_train and X_test data"
   ]
  },
  {
   "cell_type": "code",
   "execution_count": 364,
   "metadata": {},
   "outputs": [],
   "source": [
    "scaler          = MinMaxScaler() # to save it later\n",
    "X_train         = scaler.fit_transform(X_train)\n",
    "X_test          = scaler.transform(X_test) "
   ]
  },
  {
   "cell_type": "markdown",
   "metadata": {},
   "source": [
    "Model optimization / Hyperparameters fine tuning / features selection"
   ]
  },
  {
   "cell_type": "code",
   "execution_count": 365,
   "metadata": {},
   "outputs": [
    {
     "name": "stdout",
     "output_type": "stream",
     "text": [
      "0.7474747474747475\n"
     ]
    }
   ],
   "source": [
    "model_selected      = SVC()\n",
    "model_selected.fit(X_train, Y_train)\n",
    "Y_pred              = model_selected.predict(X_test)\n",
    "recall              = recall_score(Y_test, Y_pred)\n",
    "print(recall)"
   ]
  },
  {
   "cell_type": "markdown",
   "metadata": {},
   "source": [
    "Hyperparameters fine tuning"
   ]
  },
  {
   "cell_type": "code",
   "execution_count": 366,
   "metadata": {},
   "outputs": [
    {
     "name": "stdout",
     "output_type": "stream",
     "text": [
      "Best Hyperparameters: {'svc__C': 0.1, 'svc__degree': 2, 'svc__gamma': 'auto', 'svc__kernel': 'rbf'}\n",
      "Best Score: 1.0\n"
     ]
    }
   ],
   "source": [
    "model_to_optimize = make_pipeline(SVC()) \n",
    "hyper_parameters = {'svc__gamma':['auto'],\n",
    "                    'svc__C' : [0.1,1,10,20,100] , \n",
    "                    'svc__kernel':['rbf','linear','sigmoid','poly'],\n",
    "                    'svc__degree':[2,3,4]} \n",
    "\n",
    "grid_search = GridSearchCV(model_to_optimize, hyper_parameters,scoring='recall',cv=3)\n",
    "grid_search.fit(X_train,Y_train)\n",
    "best_params = grid_search.best_params_\n",
    "best_score = grid_search.best_score_\n",
    "print(\"Best Hyperparameters:\", best_params)\n",
    "print(\"Best Score:\", best_score)"
   ]
  },
  {
   "cell_type": "markdown",
   "metadata": {},
   "source": [
    "Model optimized based upon Hyperparameters"
   ]
  },
  {
   "cell_type": "code",
   "execution_count": 367,
   "metadata": {},
   "outputs": [
    {
     "name": "stdout",
     "output_type": "stream",
     "text": [
      "1.0\n"
     ]
    }
   ],
   "source": [
    "model_optimized      = grid_search.best_estimator_\n",
    "model_optimized.fit(X_train, Y_train)\n",
    "Y_pred              = model_optimized.predict(X_test)\n",
    "recall              = recall_score(Y_test, Y_pred)\n",
    "print(recall)"
   ]
  },
  {
   "cell_type": "markdown",
   "metadata": {},
   "source": [
    "Overfitting ?? I don't think so. Let's see now if we can reduce our dataset "
   ]
  },
  {
   "cell_type": "markdown",
   "metadata": {},
   "source": [
    "# Based upon the recall score, do we need all features ?\n",
    "\n",
    "Use : SelectKBest for Features selection"
   ]
  },
  {
   "cell_type": "code",
   "execution_count": 368,
   "metadata": {},
   "outputs": [],
   "source": [
    "features        =  df.drop([\"TARGET_5Yrs\"],axis=1)\n",
    "bestfeatures    = SelectKBest(score_func=f_classif) # choose from figure\n",
    "data_trim       = bestfeatures.fit(X_train, Y_train)\n",
    "filter          = bestfeatures.get_support()\n"
   ]
  },
  {
   "cell_type": "code",
   "execution_count": 369,
   "metadata": {},
   "outputs": [
    {
     "data": {
      "image/png": "[encoded data removed]",
      "text/plain": [
       "<Figure size 1500x600 with 1 Axes>"
      ]
     },
     "metadata": {},
     "output_type": "display_data"
    }
   ],
   "source": [
    "plt.figure(figsize=(15, 6))\n",
    "sns.barplot(x=features.columns,y=bestfeatures.scores_,hue=features.columns,palette=\"crest\",legend=False)\n",
    "plt.title(\"Features\")\n",
    "plt.show()\n"
   ]
  },
  {
   "cell_type": "markdown",
   "metadata": {},
   "source": [
    "# Select k for the SelectKBest function of scikit learn"
   ]
  },
  {
   "cell_type": "markdown",
   "metadata": {},
   "source": [
    "Reduce data and test model again"
   ]
  },
  {
   "cell_type": "code",
   "execution_count": 380,
   "metadata": {},
   "outputs": [
    {
     "name": "stdout",
     "output_type": "stream",
     "text": [
      "1 feature(s) => recall 0.7433628318584071 => ['GP'] \n",
      "2 feature(s) => recall 0.7522123893805309 => ['GP', 'FTA'] \n",
      "3 feature(s) => recall 0.8053097345132744 => ['GP', 'FG%', 'FTA'] \n",
      "4 feature(s) => recall 0.831858407079646 => ['GP', 'FG%', 'FTM', 'FTA'] \n",
      "5 feature(s) => recall 0.7876106194690266 => ['GP', 'FG%', 'FTM', 'FTA', 'OREB'] \n",
      "6 feature(s) => recall 0.7876106194690266 => ['GP', 'FGM', 'FG%', 'FTM', 'FTA', 'OREB'] \n",
      "7 feature(s) => recall 0.7964601769911505 => ['GP', 'PTS', 'FGM', 'FG%', 'FTM', 'FTA', 'OREB'] \n",
      "8 feature(s) => recall 0.7876106194690266 => ['GP', 'PTS', 'FGM', 'FG%', 'FTM', 'FTA', 'OREB', 'REB'] \n",
      "9 feature(s) => recall 0.7964601769911505 => ['GP', 'PTS', 'FGM', 'FG%', 'FTM', 'FTA', 'OREB', 'DREB', 'REB'] \n",
      "10 feature(s) => recall 0.8141592920353983 => ['GP', 'MIN', 'PTS', 'FGM', 'FG%', 'FTM', 'FTA', 'OREB', 'DREB', 'REB'] \n",
      "11 feature(s) => recall 0.8230088495575221 => ['GP', 'MIN', 'PTS', 'FGM', 'FGA', 'FG%', 'FTM', 'FTA', 'OREB', 'DREB', 'REB'] \n",
      "12 feature(s) => recall 0.8407079646017699 => ['GP', 'MIN', 'PTS', 'FGM', 'FGA', 'FG%', 'FTM', 'FTA', 'OREB', 'DREB', 'REB', 'TOV'] \n",
      "13 feature(s) => recall 0.8584070796460177 => ['GP', 'MIN', 'PTS', 'FGM', 'FGA', 'FG%', 'FTM', 'FTA', 'OREB', 'DREB', 'REB', 'BLK', 'TOV'] \n",
      "14 feature(s) => recall 0.8849557522123894 => ['GP', 'MIN', 'PTS', 'FGM', 'FGA', 'FG%', 'FTM', 'FTA', 'OREB', 'DREB', 'REB', 'STL', 'BLK', 'TOV'] \n",
      "15 feature(s) => recall 0.9469026548672567 => ['GP', 'MIN', 'PTS', 'FGM', 'FGA', 'FG%', '3PA', 'FTM', 'FTA', 'OREB', 'DREB', 'REB', 'STL', 'BLK', 'TOV'] \n",
      "16 feature(s) => recall 0.9646017699115044 => ['GP', 'MIN', 'PTS', 'FGM', 'FGA', 'FG%', '3P Made', '3PA', 'FTM', 'FTA', 'OREB', 'DREB', 'REB', 'STL', 'BLK', 'TOV'] \n",
      "17 feature(s) => recall 0.9646017699115044 => ['GP', 'MIN', 'PTS', 'FGM', 'FGA', 'FG%', '3P Made', '3PA', 'FTM', 'FTA', 'OREB', 'DREB', 'REB', 'AST', 'STL', 'BLK', 'TOV'] \n",
      "18 feature(s) => recall 0.9823008849557522 => ['GP', 'MIN', 'PTS', 'FGM', 'FGA', 'FG%', '3P Made', '3PA', '3P%', 'FTM', 'FTA', 'OREB', 'DREB', 'REB', 'AST', 'STL', 'BLK', 'TOV'] \n",
      "19 feature(s) => recall 1.0 => ['GP', 'MIN', 'PTS', 'FGM', 'FGA', 'FG%', '3P Made', '3PA', '3P%', 'FTM', 'FTA', 'FT%', 'OREB', 'DREB', 'REB', 'AST', 'STL', 'BLK', 'TOV'] \n"
     ]
    }
   ],
   "source": [
    "for i in range(19):\n",
    "    # features selection\n",
    "    bestfeatures        = SelectKBest(score_func=f_classif,k=i+1) # choose from figure\n",
    "    data_trim           = bestfeatures.fit_transform(X_train, Y_train)\n",
    "    filter              = bestfeatures.get_support()\n",
    "    selected_features   = features.columns[filter]\n",
    "\n",
    "    # Data reduction\n",
    "    reduce_dataset = df[selected_features]\n",
    "    reduce_dataset[\"TARGET_5Yrs\"] = df[\"TARGET_5Yrs\"]\n",
    "\n",
    "    trainset_reduce_data, testset_reduce_data = train_test_split(reduce_dataset, test_size=0.2, random_state=0)\n",
    "    # rd for reduced_daraset\n",
    "    X_train_rd, Y_train_rd    = prepare_data_for_modelisation(trainset_reduce_data)\n",
    "    X_test_rd, Y_test_rd      = prepare_data_for_modelisation(testset_reduce_data)\n",
    "\n",
    "    # Data normalization\n",
    "    scaler              = MinMaxScaler() # to save it later\n",
    "    X_train_rd          = scaler.fit_transform(X_train_rd)\n",
    "    X_test_rd           = scaler.transform(X_test_rd) \n",
    "\n",
    "    # Test model again\n",
    "    model_optimized.fit(X_train_rd, Y_train_rd)\n",
    "    Y_pred              = model_optimized.predict(X_test_rd)\n",
    "    recall              = recall_score(Y_test_rd, Y_pred)\n",
    "\n",
    "    print(f\"{i+1} feature(s) => recall {recall} => {list(selected_features)} \")\n",
    "\n",
    "    "
   ]
  },
  {
   "cell_type": "markdown",
   "metadata": {},
   "source": [
    "With 4 features only, the recall score is similar to somewhat between 12 or 13 features "
   ]
  },
  {
   "cell_type": "markdown",
   "metadata": {},
   "source": [
    "Final model optimisation"
   ]
  },
  {
   "cell_type": "code",
   "execution_count": 381,
   "metadata": {},
   "outputs": [
    {
     "name": "stdout",
     "output_type": "stream",
     "text": [
      "      GP   FG%  FTM  FTA  TARGET_5Yrs\n",
      "0     36  34.7  1.6  2.3          0.0\n",
      "1     35  29.6  2.6  3.4          0.0\n",
      "2     74  42.2  0.9  1.3          0.0\n",
      "3     58  42.6  0.9  1.3          1.0\n",
      "4     48  52.4  1.3  1.9          1.0\n",
      "...   ..   ...  ...  ...          ...\n",
      "1289  80  43.3  1.2  1.5          0.0\n",
      "1290  68  35.8  0.8  1.0          1.0\n",
      "1291  43  55.0  1.0  1.6          0.0\n",
      "1292  52  43.9  1.2  1.8          1.0\n",
      "1293  47  36.9  0.7  1.0          1.0\n",
      "\n",
      "[948 rows x 5 columns]\n",
      "4 features => recall 0.831858407079646\n"
     ]
    }
   ],
   "source": [
    "nb_features = 4\n",
    "\n",
    "# features selection\n",
    "bestfeatures        = SelectKBest(score_func=f_classif,k=nb_features) # choose from figure\n",
    "data_trim           = bestfeatures.fit_transform(X_train, Y_train)\n",
    "filter              = bestfeatures.get_support()\n",
    "selected_features   = features.columns[filter]\n",
    "\n",
    "# Data reduction\n",
    "reduce_dataset = df[selected_features]\n",
    "reduce_dataset[\"TARGET_5Yrs\"] = df[\"TARGET_5Yrs\"]\n",
    "\n",
    "\n",
    "print(reduce_dataset)\n",
    "\n",
    "trainset_reduce_data, testset_reduce_data = train_test_split(reduce_dataset, test_size=0.2, random_state=0)\n",
    "# rd for reduced_daraset\n",
    "X_train_rd, Y_train_rd    = prepare_data_for_modelisation(trainset_reduce_data)\n",
    "X_test_rd, Y_test_rd      = prepare_data_for_modelisation(testset_reduce_data)\n",
    "\n",
    "# Data normalization\n",
    "scaler              = MinMaxScaler() # to save it later\n",
    "X_train_rd          = scaler.fit_transform(X_train_rd)\n",
    "X_test_rd           = scaler.transform(X_test_rd) \n",
    "\n",
    "# Test model again\n",
    "model_optimized.fit(X_train_rd, Y_train_rd)\n",
    "Y_pred              = model_optimized.predict(X_test_rd)\n",
    "recall              = recall_score(Y_test_rd, Y_pred)\n",
    "\n",
    "print(f\"{nb_features} features => recall {recall}\")"
   ]
  },
  {
   "cell_type": "markdown",
   "metadata": {},
   "source": [
    "# Save final model"
   ]
  },
  {
   "cell_type": "code",
   "execution_count": 372,
   "metadata": {},
   "outputs": [
    {
     "data": {
      "text/plain": [
       "['nba_model_optimzed.sav']"
      ]
     },
     "execution_count": 372,
     "metadata": {},
     "output_type": "execute_result"
    }
   ],
   "source": [
    "# %% save model with joblib \n",
    "jb.dump(scaler, \"scaler.sav\") \n",
    "jb.dump(model_optimized,'nba_model_optimzed.sav')"
   ]
  },
  {
   "cell_type": "markdown",
   "metadata": {},
   "source": [
    "Test some predictions"
   ]
  },
  {
   "cell_type": "code",
   "execution_count": 382,
   "metadata": {},
   "outputs": [
    {
     "name": "stdout",
     "output_type": "stream",
     "text": [
      "[0.]\n"
     ]
    }
   ],
   "source": [
    "X           = [[0 ,42.6 , 0.9 , 1.3 ]]\n",
    "X_scaled    = scaler.transform(X)\n",
    "Y           = model_optimized.predict(X_scaled)\n",
    "print(Y)"
   ]
  },
  {
   "cell_type": "markdown",
   "metadata": {},
   "source": [
    "Conclusion : The recall score with a reduced dataset of 4 features (from originally 19) is about 0,83. \n",
    "\n",
    "The final criterion decision would have to be discussed in order to understand the acceptable limits."
   ]
  }
 ],
 "metadata": {
  "kernelspec": {
   "display_name": ".venv",
   "language": "python",
   "name": "python3"
  },
  "language_info": {
   "codemirror_mode": {
    "name": "ipython",
    "version": 3
   },
   "file_extension": ".py",
   "mimetype": "text/x-python",
   "name": "python",
   "nbconvert_exporter": "python",
   "pygments_lexer": "ipython3",
   "version": "3.9.21"
  }
 },
 "nbformat": 4,
 "nbformat_minor": 2
}
